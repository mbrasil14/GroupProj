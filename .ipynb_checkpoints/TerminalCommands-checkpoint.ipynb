{
 "cells": [
  {
   "cell_type": "markdown",
   "metadata": {},
   "source": [
    "Command runn for spades:\n",
    "\n",
    "spades.py -1 SARA_2_S25_L004_R1_001.fastq.gz -2 SARA_2_S25_L004_R2_001.fastq.gz -t 1 -m 16 -o ../../../home/5495820/GroupProj/"
   ]
  }
 ],
 "metadata": {
  "kernelspec": {
   "display_name": "Python 3",
   "language": "python",
   "name": "python3"
  },
  "language_info": {
   "codemirror_mode": {
    "name": "ipython",
    "version": 3
   },
   "file_extension": ".py",
   "mimetype": "text/x-python",
   "name": "python",
   "nbconvert_exporter": "python",
   "pygments_lexer": "ipython3",
   "version": "3.7.3"
  }
 },
 "nbformat": 4,
 "nbformat_minor": 2
}
